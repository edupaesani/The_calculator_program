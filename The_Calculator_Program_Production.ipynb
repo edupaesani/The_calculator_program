{
  "nbformat": 4,
  "nbformat_minor": 0,
  "metadata": {
    "colab": {
      "name": "The_Calculator_Program_Production.ipynb",
      "provenance": [],
      "include_colab_link": true
    },
    "kernelspec": {
      "name": "python3",
      "display_name": "Python 3"
    },
    "language_info": {
      "name": "python"
    }
  },
  "cells": [
    {
      "cell_type": "markdown",
      "metadata": {
        "id": "view-in-github",
        "colab_type": "text"
      },
      "source": [
        "<a href=\"https://colab.research.google.com/github/edupaesani/The_calculator_program/blob/main/The_Calculator_Program_Production.ipynb\" target=\"_parent\"><img src=\"https://colab.research.google.com/assets/colab-badge.svg\" alt=\"Open In Colab\"/></a>"
      ]
    },
    {
      "cell_type": "markdown",
      "source": [
        "# Simple Calculator\n",
        "\n",
        "The following algorithm performs the same operations as a simple calculator.\n",
        "\n",
        "Those include addition, subtraction, multiplication, and division.\n",
        "\n",
        "The user selects which calculation wants to perform.\n",
        "\n",
        "Then, inputs the numbers involved in the calculation.\n",
        "\n",
        "The program will select the algorithm depending on the selected operation.\n",
        "\n",
        "The program will do the calculation.\n",
        "\n",
        "The program will ask the user if he/she wants to do another calculation or exit."
      ],
      "metadata": {
        "id": "8D5d05fY8wir"
      }
    },
    {
      "cell_type": "markdown",
      "source": [
        "# Modules\n",
        "\n",
        "> *Note: The order of the following cells matter.*"
      ],
      "metadata": {
        "id": "QSdkJd8C86MM"
      }
    },
    {
      "cell_type": "code",
      "source": [
        "pip install PyInputPlus"
      ],
      "metadata": {
        "colab": {
          "base_uri": "https://localhost:8080/"
        },
        "id": "bVVl5aQrr4Up",
        "outputId": "158fecc5-f036-43b8-8b15-3bd189b85fa7"
      },
      "execution_count": 1,
      "outputs": [
        {
          "output_type": "stream",
          "name": "stdout",
          "text": [
            "Requirement already satisfied: PyInputPlus in /usr/local/lib/python3.7/dist-packages (0.2.12)\n",
            "Requirement already satisfied: pysimplevalidate>=0.2.7 in /usr/local/lib/python3.7/dist-packages (from PyInputPlus) (0.2.12)\n",
            "Requirement already satisfied: stdiomask>=0.0.3 in /usr/local/lib/python3.7/dist-packages (from PyInputPlus) (0.0.6)\n"
          ]
        }
      ]
    },
    {
      "cell_type": "code",
      "source": [
        "#pyinput is used across the whole algorithm to maintain best practices\n",
        "import pyinputplus as pyinput"
      ],
      "metadata": {
        "id": "sCuCXloCtBJ8"
      },
      "execution_count": 2,
      "outputs": []
    },
    {
      "cell_type": "code",
      "source": [
        "#Function: Ask for operation\n",
        "\n",
        "def ask_for_operation():\n",
        "  select = ['+', '-', '/', 'x']\n",
        "  operation = str(pyinput.inputMenu( select, prompt= \"Please select a mathematical operation that you wish to perform from the list: \\n\"))\n",
        "  return operation "
      ],
      "metadata": {
        "id": "H4Em5v0srWpw"
      },
      "execution_count": 9,
      "outputs": []
    },
    {
      "cell_type": "code",
      "source": [
        "ask_for_operation()"
      ],
      "metadata": {
        "colab": {
          "base_uri": "https://localhost:8080/",
          "height": 140
        },
        "id": "WqNwTiIhuGG8",
        "outputId": "135b46d4-7d85-4b3f-c3a6-937d8f88d7f8"
      },
      "execution_count": 10,
      "outputs": [
        {
          "name": "stdout",
          "output_type": "stream",
          "text": [
            "Please select a mathematical operation that you wish to perform from the list: \n",
            "* +\n",
            "* -\n",
            "* /\n",
            "* x\n",
            "x\n"
          ]
        },
        {
          "output_type": "execute_result",
          "data": {
            "text/plain": [
              "'x'"
            ],
            "application/vnd.google.colaboratory.intrinsic+json": {
              "type": "string"
            }
          },
          "metadata": {},
          "execution_count": 10
        }
      ]
    },
    {
      "cell_type": "code",
      "source": [
        "#Function: Mathematical Operations\n",
        "def mathematical_operations(num1,num2,operation):\n",
        "  if operation == \"+\":\n",
        "    num3 = num1 + num2\n",
        "    print(\"the result of\", num1, \"+\", num2, \"is\", num3) \n",
        "  elif operation == \"-\":\n",
        "    num3 = num1 - num2\n",
        "    print(\"the result of\", num1, \"-\", num2, \"is\", num3) \n",
        "  elif operation == \"x\":\n",
        "    num3 = num1 * num2\n",
        "    print(\"the result of\", num1, \"x\", num2, \"is\", num3) \n",
        "  elif operation == \"/\":\n",
        "    num3 = num1 / num2\n",
        "    print(\"the result of\", num1, \"/\", num2, \"is\", num3) "
      ],
      "metadata": {
        "id": "OqHlR9Q-redQ"
      },
      "execution_count": 5,
      "outputs": []
    },
    {
      "cell_type": "code",
      "source": [
        "mathematical_operations(4,2,\"/\")"
      ],
      "metadata": {
        "colab": {
          "base_uri": "https://localhost:8080/"
        },
        "id": "6S01Px9zus9o",
        "outputId": "9df956f1-c796-49c0-87e3-393ca219b893"
      },
      "execution_count": 6,
      "outputs": [
        {
          "output_type": "stream",
          "name": "stdout",
          "text": [
            "the result of 4 / 2 is 2.0\n"
          ]
        }
      ]
    },
    {
      "cell_type": "code",
      "source": [
        "#Function: Ask if user continues\n",
        "\n",
        "def user_continues():\n",
        "  answer = pyinput.inputYesNo(prompt=\"Do you wish to continue or exit? \\nYes - continue \\nNo - exits the program \")\n",
        "  return answer"
      ],
      "metadata": {
        "id": "cJNhmApVrgN4"
      },
      "execution_count": 24,
      "outputs": []
    },
    {
      "cell_type": "code",
      "source": [
        "user_continues()"
      ],
      "metadata": {
        "colab": {
          "base_uri": "https://localhost:8080/",
          "height": 87
        },
        "id": "bLcQKh7T00LN",
        "outputId": "183337e3-27a8-412d-c2ef-775e99fc32ed"
      },
      "execution_count": 17,
      "outputs": [
        {
          "name": "stdout",
          "output_type": "stream",
          "text": [
            "Do you wish to continue or exit? \n",
            "Yes - continue \n",
            "No - exit the program n\n"
          ]
        },
        {
          "output_type": "execute_result",
          "data": {
            "text/plain": [
              "'no'"
            ],
            "application/vnd.google.colaboratory.intrinsic+json": {
              "type": "string"
            }
          },
          "metadata": {},
          "execution_count": 17
        }
      ]
    },
    {
      "cell_type": "markdown",
      "source": [
        "# Main Program"
      ],
      "metadata": {
        "id": "wo9hd-h587fF"
      }
    },
    {
      "cell_type": "code",
      "source": [
        "#starts funttion with while\n",
        "while True:\n",
        "\n",
        "  #ask the user which operation he wishes to perform\n",
        "  operation = ask_for_operation()\n",
        "\n",
        "  #ask the user for the numbers\n",
        "  num1= pyinput.inputNum(\"What is the first number? \")\n",
        "  num2= pyinput.inputNum(\"What is the second number? \")\n",
        "\n",
        "  #does operation\n",
        "  mathematical_operations(num1,num2,operation)\n",
        "\n",
        "  #asks us0er if he/she wishes to continue\n",
        "  answer= user_continues()\n",
        "\n",
        "  #ends the function with a break, in case the user says he/she doesn't want to continue\n",
        "  if answer == 'no':\n",
        "    print(\"Exiting the calculator\")\n",
        "    break"
      ],
      "metadata": {
        "colab": {
          "base_uri": "https://localhost:8080/"
        },
        "id": "ajcp55tlxM7g",
        "outputId": "a3618a96-3b13-4a24-bf1e-de1f34ba8c15"
      },
      "execution_count": 26,
      "outputs": [
        {
          "output_type": "stream",
          "name": "stdout",
          "text": [
            "Please select a mathematical operation that you wish to perform from the list: \n",
            "* +\n",
            "* -\n",
            "* /\n",
            "* x\n",
            "+\n",
            "What is the first number? 4\n",
            "What is the second number? 2\n",
            "the result of 4 + 2 is 6\n",
            "Do you wish to continue or exit? \n",
            "Yes - continue \n",
            "No - exits the program y\n",
            "Please select a mathematical operation that you wish to perform from the list: \n",
            "* +\n",
            "* -\n",
            "* /\n",
            "* x\n",
            "x\n",
            "What is the first number? 5\n",
            "What is the second number? 2\n",
            "the result of 5 x 2 is 10\n",
            "Do you wish to continue or exit? \n",
            "Yes - continue \n",
            "No - exits the program n\n",
            "Exiting the calculator\n"
          ]
        }
      ]
    }
  ]
}
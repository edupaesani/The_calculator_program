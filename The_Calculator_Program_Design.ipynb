{
  "nbformat": 4,
  "nbformat_minor": 0,
  "metadata": {
    "colab": {
      "name": "The_Calculator_Program_Design.ipynb",
      "provenance": [],
      "include_colab_link": true
    },
    "kernelspec": {
      "name": "python3",
      "display_name": "Python 3"
    },
    "language_info": {
      "name": "python"
    }
  },
  "cells": [
    {
      "cell_type": "markdown",
      "metadata": {
        "id": "view-in-github",
        "colab_type": "text"
      },
      "source": [
        "<a href=\"https://colab.research.google.com/github/edupaesani/The_calculator_program/blob/main/The_Calculator_Program_Design.ipynb\" target=\"_parent\"><img src=\"https://colab.research.google.com/assets/colab-badge.svg\" alt=\"Open In Colab\"/></a>"
      ]
    },
    {
      "cell_type": "markdown",
      "source": [
        "#The Calculator\n",
        "This notebook is an exercise in programming to help hone your skills through practice and repetition.\n",
        "\n",
        "## What are *our* Best Practices\n",
        "\n",
        "Here are the best practices we have been applying throughout the course.\n",
        "\n",
        "1. Use a code repository (*GitHub, small frequent commits*)\n",
        "2. Follow style guidelines (*PEP8*)\n",
        "3. Correct broken code immediately (*exception handling, input validation, testing*)\n",
        "4. Use the PyPI instead of doing it yourself (*search and import module*)\n",
        "5. Use the Right Data Types and Structures (*int, float, list, etc. *)\n",
        "6. Write Readable Code (*meaningful names and comments*)\n",
        "7. Create readable documentation (*Docstrings*)\n",
        "8. Use Virtual Environments (*Google VM instance, Binder*)\n",
        "9. Avoid anti-patterns (*be specific imports, exceptions etc. *)\n",
        "10. Follow *Zen of Python* (try *`import this`*)"
      ],
      "metadata": {
        "id": "in2iZP7A1rNP"
      }
    },
    {
      "cell_type": "markdown",
      "source": [
        "## The Challenge - Simple Calculator\n",
        "\n",
        "Write a program to prompt the user to select a mathematical operation and input two numbers. The program will then operate on the two numbers and output the result. The user will be able to continue performing operations on numbers or exit the program. The arithmetic operations include: \n",
        "* addition, \n",
        "* subtraction, \n",
        "* multiplication, and \n",
        "* division. \n",
        "\n",
        "Let's review the *Zen of Python*.  Run the following code cell"
      ],
      "metadata": {
        "id": "6McFoWcj2AUu"
      }
    },
    {
      "cell_type": "code",
      "execution_count": 1,
      "metadata": {
        "id": "H_kOZrGM1e38",
        "colab": {
          "base_uri": "https://localhost:8080/"
        },
        "outputId": "2a4ff60f-89e8-4d14-8898-eb1c1fb5be3c"
      },
      "outputs": [
        {
          "output_type": "stream",
          "name": "stdout",
          "text": [
            "The Zen of Python, by Tim Peters\n",
            "\n",
            "Beautiful is better than ugly.\n",
            "Explicit is better than implicit.\n",
            "Simple is better than complex.\n",
            "Complex is better than complicated.\n",
            "Flat is better than nested.\n",
            "Sparse is better than dense.\n",
            "Readability counts.\n",
            "Special cases aren't special enough to break the rules.\n",
            "Although practicality beats purity.\n",
            "Errors should never pass silently.\n",
            "Unless explicitly silenced.\n",
            "In the face of ambiguity, refuse the temptation to guess.\n",
            "There should be one-- and preferably only one --obvious way to do it.\n",
            "Although that way may not be obvious at first unless you're Dutch.\n",
            "Now is better than never.\n",
            "Although never is often better than *right* now.\n",
            "If the implementation is hard to explain, it's a bad idea.\n",
            "If the implementation is easy to explain, it may be a good idea.\n",
            "Namespaces are one honking great idea -- let's do more of those!\n"
          ]
        }
      ],
      "source": [
        "import this"
      ]
    },
    {
      "cell_type": "markdown",
      "source": [
        "# Step 0 - Create code repository\n",
        "\n",
        "All projects need a project folder. Use the code repository to store the project. Go to GitHub, create a new repository with a meaningful name, like calculator, and add a README. Adding a readme file will initialise the repository. Initialising is *critical* and will make it easy to add files later.\n",
        "\n",
        "This notebook assumes we use Google Colab as the Integrated Development Environment (IDE). For our workflow and easy integration with the IDE, tick the box \"Include a link to Colaboratory\".\n",
        "\n",
        "This notebook will have small and frequent commits (Best Practice #1). You can look at the history of the notebook to view the commits."
      ],
      "metadata": {
        "id": "JqQiweAm3ENv"
      }
    },
    {
      "cell_type": "markdown",
      "source": [
        "# Step 1 - State the problem clearly\n",
        "\n",
        "We are following 5 step methodology:\n",
        "1. State the problem clearly\n",
        "2. Describe the input and output information\n",
        "3. Work the problem by hand\n",
        "4. Develop an algorithm (and convert it to python) \n",
        "5. Test solution with a variety of data\n",
        "\n",
        "\n",
        "## The Approach/Design"
      ],
      "metadata": {
        "id": "Ogxm2XmL3ulZ"
      }
    },
    {
      "cell_type": "markdown",
      "source": [
        "The following algorithm performs the same operations as a regular calculation. \n",
        "\n",
        "Those include addition, subtraction, multiplication, and division.\n",
        "\n",
        "The user selects which calculation wants to perform. \n",
        "\n",
        "Then, inputs the numbers involved in the calculation.\n",
        "\n",
        "The program will select the algorithm depending on the selected operation.\n",
        "\n",
        "The program will do the calculation.\n",
        "\n",
        "The program will ask the user if he/she wants to do another calculation or exit."
      ],
      "metadata": {
        "id": "UzSj1RsXel56"
      }
    },
    {
      "cell_type": "markdown",
      "source": [
        "#Step 2 - Describe inputs and outputs"
      ],
      "metadata": {
        "id": "Oy2qLtkI33Wi"
      }
    },
    {
      "cell_type": "markdown",
      "source": [
        "**Inputs**\n",
        "\n",
        "-Symbol that represents the desired operation \n",
        "\n",
        "-Numbers involved in the calculation. Can be positive, negative, float or integer.\n",
        "\n",
        "-Y/N, in case the user decides to perform another calculation\n",
        "\n",
        "**Outputs**\n",
        "\n",
        "-Menu with possible operations\n",
        "\n",
        "-Outcome from the selected operation\n",
        "\n",
        "-Prompt asking the user if he wants to do another calculation"
      ],
      "metadata": {
        "id": "cyt9Meoyfgqt"
      }
    },
    {
      "cell_type": "markdown",
      "source": [
        "# Step 3 - Work the problem by hand\n",
        "\n",
        "use some test-cases/scenario\n",
        "\n",
        "**Test-cases**\n",
        "\n",
        "- Addition:\n",
        "\n",
        "    1+1 = 2\n",
        " \n",
        "- Subtraction \n",
        "\n",
        "    3-1 = 2\n",
        "\n",
        "- Multiplication\n",
        "\n",
        "    2*2 = 4\n",
        "\n",
        "- Division\n",
        "\n",
        "    4/2 = 2"
      ],
      "metadata": {
        "id": "V1eEfzun4ErK"
      }
    },
    {
      "cell_type": "markdown",
      "source": [
        "# Step 4 - Develop an algorithm (and convert it to python)"
      ],
      "metadata": {
        "id": "J_kOUaGA4Hsa"
      }
    },
    {
      "cell_type": "markdown",
      "source": [
        "Please select a mathematical operation that you wish to perform from the list:\n",
        "\n",
        "- \"+\" (Addition)\n",
        "- \"-\" (Substraction)\n",
        "- \"/\" (Division)\n",
        "- \"x\" (Multiplication)\n",
        "\n",
        "Please input two numbers: \n",
        "\n",
        "- number1\n",
        "- number2\n",
        "\n",
        "Input validation: If numbers are not integers or float, input them again please.\n",
        "\n",
        "if operation is addition\n",
        "\n",
        ">print the result of num1 + num2\n",
        "\n",
        "else if operation is subtraction\n",
        "\n",
        ">print the result of num1 - num2\n",
        "\n",
        "else if operation is multiplication\n",
        "\n",
        ">print the result of num1 * num2\n",
        "\n",
        "else if operation is division\n",
        "\n",
        ">print the result of num1 * num2\n",
        "\n",
        "Do you wish to continue or exit?\n",
        "- Y - Yes, I want to do another calculation.\n",
        "- N - No, I want to exit.\n",
        "\n",
        "if he wishes to continue:\n",
        "  \n",
        ">start program again\n",
        "\n",
        "else:\n",
        "\n",
        ">exit the program"
      ],
      "metadata": {
        "id": "N0SKVv9eeUgO"
      }
    },
    {
      "cell_type": "markdown",
      "source": [
        "# Final Design\n",
        "\n",
        "**Module: Main Program**\n",
        "\n",
        "Function \"Ask for operation\"\n",
        "\n",
        "prompt for 1st number\n",
        "\n",
        "prompt for 2nd number\n",
        "\n",
        "print result from Function \"Mathematical Operation\"\n",
        "\n",
        "Function \"Ask if user continues\"\n",
        "\n",
        "\n",
        "**Module 2: Function: Ask for operation**\n",
        "\n",
        "Print:\n",
        ">Please select a mathematical operation that you wish to perform from the list:\n",
        "\n",
        ">  \"+\" (Addition)\n",
        "\n",
        ">  \"-\" (Substraction)\n",
        "\n",
        ">  \"/\" (Division)\n",
        "\n",
        ">  \"x\" (Multiplication)\n",
        "\n",
        "Prompt answer\n",
        "\n",
        "\n",
        "**Module 3: Function: Mathematical Operations** \n",
        "\n",
        "if operation is addition\n",
        "\n",
        ">print the result of num1 + num2\n",
        "\n",
        "else if operation is subtraction\n",
        "\n",
        ">print the result of num1 - num2\n",
        "\n",
        "else if operation is multiplication\n",
        "\n",
        ">print the result of num1 * num2\n",
        "\n",
        "else if operation is division\n",
        "\n",
        ">print the result of num1 * num2 \n",
        "\n",
        "\n",
        "**Module 4: Function: Ask if user continues** \n",
        "\n",
        "Print:\n",
        ">Do you wish to continue or exit?\n",
        "\n",
        ">  Y - Yes, I want to do another calculation.\n",
        "\n",
        ">  N - No, I want to exit.\n",
        "\n",
        "Prompt answer\n",
        "\n",
        "if he wishes to continue:\n",
        "\n",
        ">start program again\n",
        "\n",
        "else:\n",
        "\n",
        ">exit the program\n"
      ],
      "metadata": {
        "id": "S7oj8cWz4Udi"
      }
    },
    {
      "cell_type": "markdown",
      "source": [
        "# Convert to Python\n",
        "\n",
        "Convert the design to Pythin in another notebook"
      ],
      "metadata": {
        "id": "9VFIwWNy4z9j"
      }
    },
    {
      "cell_type": "markdown",
      "source": [
        "# Step 5 - Test solution with a variety of data"
      ],
      "metadata": {
        "id": "QyOxJjqk4m9z"
      }
    },
    {
      "cell_type": "markdown",
      "source": [
        "**Function: Ask for operation**\n",
        "\n",
        "User inputs:\n",
        "\n",
        "- \" + \" -> function procedes with addition\n",
        "- \" - \" -> function procedes with substraction\n",
        "- \" / \" -> function procedes with division\n",
        "- \" x \" -> function procedes with multiplication\n",
        "\n",
        "**Function: Mathematical Operations**\n",
        "\n",
        "Depending on the inputs and the selected operation:\n",
        "\n",
        "- Addition ->  1 + 1 = 2\n",
        "- Substraction -> 2-1 = 1\n",
        "- Division -> 4/2 = 2\n",
        "- Multiplication -> 2*2 =4\n",
        "\n",
        "**Function: Ask if user continues**\n",
        "\n",
        "User inputs:\n",
        "\n",
        "- \" Y \" -> runs algorithm again\n",
        "- \" N \" -> exits\n",
        "- \" / \" -> function procedes with division\n",
        "- \" x \" -> function procedes with multiplication\n",
        "\n"
      ],
      "metadata": {
        "id": "UFQgVEOIpTxD"
      }
    }
  ]
}